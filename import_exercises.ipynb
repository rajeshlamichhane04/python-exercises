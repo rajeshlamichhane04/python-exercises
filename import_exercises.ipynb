{
 "cells": [
  {
   "cell_type": "code",
   "execution_count": 4,
   "id": "d78cec0f",
   "metadata": {},
   "outputs": [
    {
     "data": {
      "text/plain": [
       "'C'"
      ]
     },
     "execution_count": 4,
     "metadata": {},
     "output_type": "execute_result"
    }
   ],
   "source": [
    "# 1 Import and test 3 of the functions from your functions exercise file. Import each function in a different way:\n",
    "# Create a jupyter notebook named import_exercises.ipynb. Use from to import the get_letter_grade function and give it an alias\n",
    "#1c\n",
    "\n",
    "import function_exercises as fe\n",
    "fe.get_letter_grade(79)"
   ]
  },
  {
   "cell_type": "code",
   "execution_count": 5,
   "id": "d455f410",
   "metadata": {},
   "outputs": [
    {
     "data": {
      "text/plain": [
       "50.0"
      ]
     },
     "execution_count": 5,
     "metadata": {},
     "output_type": "execute_result"
    }
   ],
   "source": [
    "# 1b\n",
    "fe.calculate_tip(100)\n"
   ]
  },
  {
   "cell_type": "code",
   "execution_count": 3,
   "id": "7cbe61bb",
   "metadata": {},
   "outputs": [
    {
     "data": {
      "text/plain": [
       "9"
      ]
     },
     "execution_count": 3,
     "metadata": {},
     "output_type": "execute_result"
    }
   ],
   "source": [
    "#2 Read about and use the itertools module from the python standard library to help you solve the following problems:\n",
    "\n",
    "#How many different ways can you combine the letters from \"abc\" with the numbers 1, 2, and 3?\n",
    "import itertools \n",
    "combos = itertools.product(\"abc\", \"123\")\n",
    "combos_count = len([combos for combo in combos])\n",
    "combos_count\n"
   ]
  },
  {
   "cell_type": "code",
   "execution_count": 4,
   "id": "68a35bfd",
   "metadata": {},
   "outputs": [
    {
     "data": {
      "text/plain": [
       "6"
      ]
     },
     "execution_count": 4,
     "metadata": {},
     "output_type": "execute_result"
    }
   ],
   "source": [
    "# How many different combinations are there of 2 letters from \"abcd\"?\n",
    "\n",
    "combos = itertools.combinations(\"abcd\", r = 2)\n",
    "combos_count = len([combos for combo in combos])\n",
    "combos_count\n"
   ]
  },
  {
   "cell_type": "code",
   "execution_count": 30,
   "id": "322189c0",
   "metadata": {},
   "outputs": [
    {
     "data": {
      "text/plain": [
       "[('a', 'b'), ('a', 'c'), ('a', 'd'), ('b', 'c'), ('b', 'd'), ('c', 'd')]"
      ]
     },
     "execution_count": 30,
     "metadata": {},
     "output_type": "execute_result"
    }
   ],
   "source": [
    "list(itertools.combinations(\"abcd\", r = 2))"
   ]
  },
  {
   "cell_type": "code",
   "execution_count": 8,
   "id": "a8d10ff2",
   "metadata": {},
   "outputs": [
    {
     "data": {
      "text/plain": [
       "12"
      ]
     },
     "execution_count": 8,
     "metadata": {},
     "output_type": "execute_result"
    }
   ],
   "source": [
    "#How many different permutations are there of 2 letters from \"abcd\"?\n",
    "\n",
    "combos= itertools.permutations(\"abcd\", r=2)\n",
    "combos_count = len([combos for combo in combos])\n",
    "combos_count"
   ]
  },
  {
   "cell_type": "code",
   "execution_count": 32,
   "id": "5af743fd",
   "metadata": {},
   "outputs": [
    {
     "data": {
      "text/plain": [
       "[('a', 'b'),\n",
       " ('a', 'c'),\n",
       " ('a', 'd'),\n",
       " ('b', 'a'),\n",
       " ('b', 'c'),\n",
       " ('b', 'd'),\n",
       " ('c', 'a'),\n",
       " ('c', 'b'),\n",
       " ('c', 'd'),\n",
       " ('d', 'a'),\n",
       " ('d', 'b'),\n",
       " ('d', 'c')]"
      ]
     },
     "execution_count": 32,
     "metadata": {},
     "output_type": "execute_result"
    }
   ],
   "source": [
    "list(itertools.permutations(\"abcd\", r=2))"
   ]
  },
  {
   "cell_type": "code",
   "execution_count": 5,
   "id": "e7a36a73",
   "metadata": {},
   "outputs": [],
   "source": [
    "#3 Save this file as profiles.json inside of your exercises directory (right click -> save file as...).\n",
    "\n",
    "#Use the load function from the json module to open this file.\n",
    "\n",
    "import json\n",
    "data = json.load(open('profiles.json'))\n"
   ]
  },
  {
   "cell_type": "code",
   "execution_count": null,
   "id": "8f85962d",
   "metadata": {},
   "outputs": [],
   "source": []
  },
  {
   "cell_type": "code",
   "execution_count": 6,
   "id": "757a5935",
   "metadata": {},
   "outputs": [
    {
     "data": {
      "text/plain": [
       "19"
      ]
     },
     "execution_count": 6,
     "metadata": {},
     "output_type": "execute_result"
    }
   ],
   "source": [
    "# Your code should produce a list of dictionaries. Using this data, write some code that calculates and outputs the following information:\n",
    "\n",
    "#Total number of users\n",
    "len(data)"
   ]
  },
  {
   "cell_type": "code",
   "execution_count": 7,
   "id": "47cdd6c2",
   "metadata": {},
   "outputs": [
    {
     "data": {
      "text/plain": [
       "9"
      ]
     },
     "execution_count": 7,
     "metadata": {},
     "output_type": "execute_result"
    }
   ],
   "source": [
    "# Number of active users\n",
    "count = 0\n",
    "for i in data:\n",
    "    if i['isActive'] ==  True:\n",
    "        count += 1\n",
    "\n",
    "count\n",
    "\n"
   ]
  },
  {
   "cell_type": "code",
   "execution_count": 8,
   "id": "8b227f53",
   "metadata": {},
   "outputs": [
    {
     "data": {
      "text/plain": [
       "10"
      ]
     },
     "execution_count": 8,
     "metadata": {},
     "output_type": "execute_result"
    }
   ],
   "source": [
    "#Number of inactive users\n",
    "count = 0\n",
    "for i in data:\n",
    "    if not i['isActive'] ==  True:\n",
    "        count += 1\n",
    "\n",
    "count"
   ]
  },
  {
   "cell_type": "code",
   "execution_count": 9,
   "id": "ebfee85f",
   "metadata": {},
   "outputs": [
    {
     "data": {
      "text/plain": [
       "52667.02"
      ]
     },
     "execution_count": 9,
     "metadata": {},
     "output_type": "execute_result"
    }
   ],
   "source": [
    "#Grand total of balances for all users\n",
    "\n",
    "total_balance = 0\n",
    "\n",
    "for i in data:\n",
    "    new_balance = i[\"balance\"]\n",
    "    new_balance = float(new_balance[1:].replace(\",\" , \"\"))\n",
    "    total_balance += new_balance\n",
    "total_balance\n"
   ]
  },
  {
   "cell_type": "code",
   "execution_count": 10,
   "id": "5b1ae53d",
   "metadata": {
    "scrolled": true
   },
   "outputs": [
    {
     "data": {
      "text/plain": [
       "2771.95"
      ]
     },
     "execution_count": 10,
     "metadata": {},
     "output_type": "execute_result"
    }
   ],
   "source": [
    "# Average balance per user\n",
    "average_balance = 0\n",
    "average_balance = total_balance/len(data)\n",
    "round(average_balance, 2)"
   ]
  },
  {
   "cell_type": "code",
   "execution_count": 11,
   "id": "897930a0",
   "metadata": {},
   "outputs": [
    {
     "data": {
      "text/plain": [
       "1214.1"
      ]
     },
     "execution_count": 11,
     "metadata": {},
     "output_type": "execute_result"
    }
   ],
   "source": [
    "# User with the lowest balance\n",
    "lowest_balance = []\n",
    "\n",
    "for i in data:\n",
    "    new_balance = i[\"balance\"]\n",
    "    new_balance = float(new_balance[1:].replace(\",\" , \"\"))\n",
    "    lowest_balance.append(new_balance)\n",
    "    for i in lowest_balance:\n",
    "        min_balance = min(lowest_balance)\n",
    "    \n",
    "round(min_balance, 2)"
   ]
  },
  {
   "cell_type": "code",
   "execution_count": 12,
   "id": "fdd06623",
   "metadata": {},
   "outputs": [
    {
     "data": {
      "text/plain": [
       "3919.64"
      ]
     },
     "execution_count": 12,
     "metadata": {},
     "output_type": "execute_result"
    }
   ],
   "source": [
    "#User with the highest balance\n",
    "# make empty list to add on balances\n",
    "highest_balance = []\n",
    "\n",
    "#make a loop that collects all balances to the empty list\n",
    "for i in data:\n",
    "#identify the balance amount from the dict\n",
    "    new_balance = i['balance']\n",
    "#convert string value of balance to float by removing $ signb and comma\n",
    "    new_balance = float(new_balance[1:].replace(',',''))\n",
    "# now append to the list\n",
    "    highest_balance.append(new_balance)\n",
    "#another loop to go throuogh the list of amount and look for highest amount\n",
    "    for i in highest_balance:\n",
    "#now use max function\n",
    "        max_balance = max(highest_balance)\n",
    "#get highest balance\n",
    "round(max_balance,2)\n",
    "\n"
   ]
  },
  {
   "cell_type": "code",
   "execution_count": 19,
   "id": "75a451b8",
   "metadata": {},
   "outputs": [
    {
     "data": {
      "text/plain": [
       "[('strawberry', 9), ('banana', 6), ('apple', 4)]"
      ]
     },
     "execution_count": 19,
     "metadata": {},
     "output_type": "execute_result"
    }
   ],
   "source": [
    "# Most common favorite fruit: Use counter to list fruits based \n",
    "# on thier count\n",
    "from collections import Counter\n",
    "# create an empty list and append favoriteFruit\n",
    "list_fruit = []\n",
    "for i in data:\n",
    "    favorite_fruit = i[\"favoriteFruit\"]\n",
    "    list_fruit.append(favorite_fruit)\n",
    "#use counter to count the key and then organise list with descending key\n",
    "Counter(list_fruit).most_common()\n"
   ]
  },
  {
   "cell_type": "code",
   "execution_count": 25,
   "id": "ea27482d",
   "metadata": {},
   "outputs": [
    {
     "data": {
      "text/plain": [
       "('strawberry', 9)"
      ]
     },
     "execution_count": 25,
     "metadata": {},
     "output_type": "execute_result"
    }
   ],
   "source": [
    "# Most common favorite fruit\n",
    "Counter(list_fruit).most_common()[0]"
   ]
  },
  {
   "cell_type": "code",
   "execution_count": 23,
   "id": "430b0a53",
   "metadata": {},
   "outputs": [
    {
     "data": {
      "text/plain": [
       "('apple', 4)"
      ]
     },
     "execution_count": 23,
     "metadata": {},
     "output_type": "execute_result"
    }
   ],
   "source": [
    "#Least most common favorite fruit\n",
    "Counter(list_fruit).most_common()[-1]"
   ]
  },
  {
   "cell_type": "code",
   "execution_count": 61,
   "id": "24aaa035",
   "metadata": {},
   "outputs": [
    {
     "data": {
      "text/plain": [
       "210"
      ]
     },
     "execution_count": 61,
     "metadata": {},
     "output_type": "execute_result"
    }
   ],
   "source": [
    "# Total number of unread messages for all users\n",
    "\n",
    "list_of_messages = []\n",
    "message_number = ''\n",
    "total = 0\n",
    "\n",
    "for i in data:\n",
    "    message = i['greeting']\n",
    "    message_number = ''\n",
    "\n",
    "    for i in message:\n",
    "        if i.isdigit():\n",
    "            message_number += i\n",
    "    \n",
    "    list_of_messages.append(message_number)\n",
    "\n",
    "for i in list_of_messages:\n",
    "    total += int(i)\n",
    "\n",
    "total\n"
   ]
  },
  {
   "cell_type": "code",
   "execution_count": null,
   "id": "db5b1db0",
   "metadata": {},
   "outputs": [],
   "source": []
  },
  {
   "cell_type": "code",
   "execution_count": null,
   "id": "78832fb7",
   "metadata": {},
   "outputs": [],
   "source": []
  }
 ],
 "metadata": {
  "kernelspec": {
   "display_name": "Python 3 (ipykernel)",
   "language": "python",
   "name": "python3"
  },
  "language_info": {
   "codemirror_mode": {
    "name": "ipython",
    "version": 3
   },
   "file_extension": ".py",
   "mimetype": "text/x-python",
   "name": "python",
   "nbconvert_exporter": "python",
   "pygments_lexer": "ipython3",
   "version": "3.9.12"
  }
 },
 "nbformat": 4,
 "nbformat_minor": 5
}
