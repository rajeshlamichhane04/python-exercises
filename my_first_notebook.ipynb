{
 "cells": [
  {
   "cell_type": "code",
   "execution_count": 2,
   "id": "0bf7fc42",
   "metadata": {
    "scrolled": true
   },
   "outputs": [
    {
     "name": "stdout",
     "output_type": "stream",
     "text": [
      "Hey, this is the jupyter notebook\n"
     ]
    }
   ],
   "source": [
    "print('Hey, this is the jupyter notebook')"
   ]
  },
  {
   "cell_type": "code",
   "execution_count": 3,
   "id": "28766922",
   "metadata": {},
   "outputs": [
    {
     "data": {
      "text/plain": [
       "bool"
      ]
     },
     "execution_count": 3,
     "metadata": {},
     "output_type": "execute_result"
    }
   ],
   "source": [
    "type(True)"
   ]
  },
  {
   "cell_type": "code",
   "execution_count": 4,
   "id": "1975743c",
   "metadata": {},
   "outputs": [
    {
     "name": "stdout",
     "output_type": "stream",
     "text": [
      "4\n"
     ]
    }
   ],
   "source": [
    "x = 1\n",
    "x +=3\n",
    "print(x)"
   ]
  },
  {
   "cell_type": "code",
   "execution_count": 5,
   "id": "952fc934",
   "metadata": {},
   "outputs": [],
   "source": [
    "# in terminal, type in jupyter notebook.\n",
    "#it will open up localhost \n",
    "# you can write and save your codes\n",
    "# go back to terminal to git push."
   ]
  },
  {
   "cell_type": "code",
   "execution_count": null,
   "id": "28266c04",
   "metadata": {},
   "outputs": [],
   "source": []
  }
 ],
 "metadata": {
  "kernelspec": {
   "display_name": "Python 3 (ipykernel)",
   "language": "python",
   "name": "python3"
  },
  "language_info": {
   "codemirror_mode": {
    "name": "ipython",
    "version": 3
   },
   "file_extension": ".py",
   "mimetype": "text/x-python",
   "name": "python",
   "nbconvert_exporter": "python",
   "pygments_lexer": "ipython3",
   "version": "3.9.12"
  }
 },
 "nbformat": 4,
 "nbformat_minor": 5
}
