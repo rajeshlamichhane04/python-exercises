{
 "cells": [
  {
   "cell_type": "code",
   "execution_count": 118,
   "id": "f3f5fa90",
   "metadata": {},
   "outputs": [
    {
     "name": "stdout",
     "output_type": "stream",
     "text": [
      "what day is it?mOnday\n",
      "It is monday\n"
     ]
    }
   ],
   "source": [
    "#1. Conditional Basics\n",
    "\n",
    "# a. prompt the user for a day of the week, print out whether the day is Monday or not\n",
    "\n",
    "day_today = input(\"what day is it?\")\n",
    "if day_today.lower() == \"monday\":\n",
    "    print('It is monday')\n",
    "else:\n",
    "    print('It is not monday')\n",
    "\n",
    "\n"
   ]
  },
  {
   "cell_type": "code",
   "execution_count": 33,
   "id": "0b8ebd5a",
   "metadata": {},
   "outputs": [
    {
     "name": "stdout",
     "output_type": "stream",
     "text": [
      "what day is it? sdfk\n",
      "it is a weekday.\n"
     ]
    }
   ],
   "source": [
    "# b. prompt the user for a day of the week, print out whether the day is a weekday or a weekend\n",
    "day_today = input(\"what day is it? \")\n",
    "if day_today == ['saturday', 'sunday']:\n",
    "    print('it is a weekend')\n",
    "else:\n",
    "    print('it is a weekday.')"
   ]
  },
  {
   "cell_type": "code",
   "execution_count": 10,
   "id": "b7b1108c",
   "metadata": {},
   "outputs": [
    {
     "name": "stdout",
     "output_type": "stream",
     "text": [
      "how many hours did you work? 40\n",
      " what is hourly wage? 34\n",
      "1360\n"
     ]
    }
   ],
   "source": [
    "\n",
    "# c. create variables and make up values for the number of hours worked in one week  the hourly rate  how much the week's paycheck will be \n",
    "#write the python code that calculates the weekly paycheck. You get paid time and a half if you work more than 40 hours\n",
    "hours_worked = int(input(\"how many hours did you work? \"))\n",
    "hourly_rate = int(input(\" what is hourly wage? \"))\n",
    "\n",
    "\n",
    "if hours_worked <= 40:\n",
    "    pay = hours_worked * hourly_rate\n",
    "    print(pay)\n",
    "    \n",
    "else :\n",
    "    hours_worked > 40\n",
    "    pay = ((hours_worked - 40) * hourly_rate * 1.5) + (40 * hourly_rate)\n",
    "    print(pay)"
   ]
  },
  {
   "cell_type": "code",
   "execution_count": 9,
   "id": "383ebab7",
   "metadata": {},
   "outputs": [
    {
     "name": "stdout",
     "output_type": "stream",
     "text": [
      "5\n",
      "6\n",
      "7\n",
      "8\n",
      "9\n",
      "10\n",
      "11\n",
      "12\n",
      "13\n",
      "14\n",
      "15\n"
     ]
    }
   ],
   "source": [
    "# 2.a Create an integer variable i with a value of 5.\n",
    "# Create a while loop that runs so long as i is less than or equal to 15\n",
    "# Each loop iteration, output the current value of i, then increment i by one.\n",
    "i = 5\n",
    "while i <= 15:\n",
    "    print(i)\n",
    "    i += 1\n",
    "    \n",
    "    \n"
   ]
  },
  {
   "cell_type": "raw",
   "id": "0990d53e",
   "metadata": {},
   "source": [
    "\n",
    "\n",
    "\n",
    "\n",
    "\n"
   ]
  },
  {
   "cell_type": "code",
   "execution_count": 119,
   "id": "2410dff7",
   "metadata": {},
   "outputs": [
    {
     "name": "stdout",
     "output_type": "stream",
     "text": [
      "0\n",
      "2\n",
      "4\n",
      "6\n",
      "8\n",
      "10\n",
      "12\n",
      "14\n",
      "16\n",
      "18\n",
      "20\n",
      "22\n",
      "24\n",
      "26\n",
      "28\n",
      "30\n",
      "32\n",
      "34\n",
      "36\n",
      "38\n",
      "40\n",
      "42\n",
      "44\n",
      "46\n",
      "48\n",
      "50\n",
      "52\n",
      "54\n",
      "56\n",
      "58\n",
      "60\n",
      "62\n",
      "64\n",
      "66\n",
      "68\n",
      "70\n",
      "72\n",
      "74\n",
      "76\n",
      "78\n",
      "80\n",
      "82\n",
      "84\n",
      "86\n",
      "88\n",
      "90\n",
      "92\n",
      "94\n",
      "96\n",
      "98\n",
      "100\n"
     ]
    }
   ],
   "source": [
    "#2.b Create a while loop that will count by 2's starting with 0 and ending at 100. Follow each number with a new line.\n",
    "i = 0\n",
    "while i <= 100:\n",
    "    print(i)\n",
    "    i +=2\n",
    "\n",
    "\n",
    "\n",
    "\n",
    "\n",
    "\n",
    "\n"
   ]
  },
  {
   "cell_type": "code",
   "execution_count": 122,
   "id": "68fd0ca9",
   "metadata": {},
   "outputs": [
    {
     "name": "stdout",
     "output_type": "stream",
     "text": [
      "100\n",
      "95\n",
      "90\n",
      "85\n",
      "80\n",
      "75\n",
      "70\n",
      "65\n",
      "60\n",
      "55\n",
      "50\n",
      "45\n",
      "40\n",
      "35\n",
      "30\n",
      "25\n",
      "20\n",
      "15\n",
      "10\n",
      "5\n",
      "0\n",
      "-5\n",
      "-10\n"
     ]
    }
   ],
   "source": [
    "# Alter your loop to count backwards by 5's from 100 to -10\n",
    "i = 100\n",
    "while i >= -10:\n",
    "        print(i)\n",
    "        i -= 5\n"
   ]
  },
  {
   "cell_type": "code",
   "execution_count": 48,
   "id": "bcfd4445",
   "metadata": {},
   "outputs": [
    {
     "name": "stdout",
     "output_type": "stream",
     "text": [
      "2\n",
      "4\n",
      "16\n",
      "256\n",
      "65536\n"
     ]
    }
   ],
   "source": [
    "# Create a while loop that starts at 2, and displays the number squared on each line while the number is less than 1,000,000. Output should equal:\n",
    "i = 2\n",
    "while i < 1_000_000:\n",
    "    print(i)\n",
    "    i = i*i\n",
    "\n",
    "\n",
    "\n",
    "\n"
   ]
  },
  {
   "cell_type": "code",
   "execution_count": 123,
   "id": "89441d97",
   "metadata": {},
   "outputs": [
    {
     "name": "stdout",
     "output_type": "stream",
     "text": [
      "100\n",
      "95\n",
      "90\n",
      "85\n",
      "80\n",
      "75\n",
      "70\n",
      "65\n",
      "60\n",
      "55\n",
      "50\n",
      "45\n",
      "40\n",
      "35\n",
      "30\n",
      "25\n",
      "20\n",
      "15\n",
      "10\n",
      "5\n"
     ]
    }
   ],
   "source": [
    "# Write a loop that uses print to create the output shown below.\n",
    "\n",
    "i = 100\n",
    "while (i >=5):\n",
    "\n",
    "        print(i)\n",
    "        i -= 5"
   ]
  },
  {
   "cell_type": "code",
   "execution_count": 124,
   "id": "e42483c9",
   "metadata": {},
   "outputs": [
    {
     "name": "stdout",
     "output_type": "stream",
     "text": [
      "enter a number 7\n",
      "7 x 1 = 7\n",
      "7 x 2 = 14\n",
      "7 x 3 = 21\n",
      "7 x 4 = 28\n",
      "7 x 5 = 35\n",
      "7 x 6 = 42\n",
      "7 x 7 = 49\n",
      "7 x 8 = 56\n",
      "7 x 9 = 63\n",
      "7 x 10 = 70\n"
     ]
    }
   ],
   "source": [
    "# For Loops\n",
    "# Write some code that prompts the user for a number, \n",
    "#then shows a multiplication table up through 10 for that number.\n",
    "\n",
    "num = int(input(\"enter a number \"))\n",
    "\n",
    "for i in range (1,11):\n",
    "    if i <= 10:\n",
    "        print (f'{num} x {i} = {num * i}')\n",
    "\n",
    "  \n"
   ]
  },
  {
   "cell_type": "code",
   "execution_count": 126,
   "id": "71b6837e",
   "metadata": {},
   "outputs": [
    {
     "name": "stdout",
     "output_type": "stream",
     "text": [
      "\n",
      "1\n",
      "22\n",
      "333\n",
      "4444\n",
      "55555\n",
      "666666\n",
      "7777777\n",
      "88888888\n",
      "999999999\n"
     ]
    }
   ],
   "source": [
    "# Create a for loop that uses print to create the output shown below.\n",
    "\n",
    "for i in range (0,10):\n",
    "    print(i * str(i))\n",
    "    \n",
    "    \n",
    "   "
   ]
  },
  {
   "cell_type": "code",
   "execution_count": 39,
   "id": "cf2907e5",
   "metadata": {},
   "outputs": [
    {
     "name": "stdout",
     "output_type": "stream",
     "text": [
      "Enter an odd number between 1 and 50: 27\n",
      "Number to skip is: 27\n",
      "Here is an odd number: 1\n",
      "Here is an odd number: 3\n",
      "Here is an odd number: 5\n",
      "Here is an odd number: 7\n",
      "Here is an odd number: 9\n",
      "Here is an odd number: 11\n",
      "Here is an odd number: 13\n",
      "Here is an odd number: 15\n",
      "Here is an odd number: 17\n",
      "Here is an odd number: 19\n",
      "Here is an odd number: 21\n",
      "Here is an odd number: 23\n",
      "Here is an odd number: 25\n",
      "Yikes! Skipping number: 27\n",
      "Here is an odd number: 29\n",
      "Here is an odd number: 31\n",
      "Here is an odd number: 33\n",
      "Here is an odd number: 35\n",
      "Here is an odd number: 37\n",
      "Here is an odd number: 39\n",
      "Here is an odd number: 41\n",
      "Here is an odd number: 43\n",
      "Here is an odd number: 45\n",
      "Here is an odd number: 47\n",
      "Here is an odd number: 49\n"
     ]
    }
   ],
   "source": [
    "# Prompt the user for an odd number between 1 and 50. Use a loop \n",
    "# and a break statement to continue prompting the user if they \n",
    "# enter invalid input. (Hint: use the isdigit method on strings \n",
    "# to determine this). Use a loop and the continue statement to \n",
    "# output all the odd numbers between 1 and 50, except for the \n",
    "# number the user entered\n",
    "\n",
    "while True:\n",
    "    num = input('Enter an odd number between 1 and 50: ')\n",
    "    if num.isdigit():\n",
    "        num = int(num)\n",
    "        if (num % 2 == 1) and (num <= 50):\n",
    "            break\n",
    "            \n",
    "print('Number to skip is:' ,num )\n",
    "      \n",
    "for i in range(1,50,2):\n",
    "      if i != num:\n",
    "          print('Here is an odd number:' , i)\n",
    "          continue\n",
    "      \n",
    "      else:\n",
    "          print('Yikes! Skipping number:', i)\n",
    "      \n",
    "    "
   ]
  },
  {
   "cell_type": "code",
   "execution_count": 33,
   "id": "3df86c96",
   "metadata": {},
   "outputs": [
    {
     "name": "stdout",
     "output_type": "stream",
     "text": [
      "1\n",
      "2\n",
      "Fizz\n",
      "4\n",
      "Buzz\n",
      "Fizz\n",
      "7\n",
      "8\n",
      "Fizz\n",
      "Buzz\n",
      "11\n",
      "Fizz\n",
      "13\n",
      "14\n",
      "Fizzbuzz\n",
      "16\n",
      "17\n",
      "Fizz\n",
      "19\n",
      "Buzz\n",
      "Fizz\n",
      "22\n",
      "23\n",
      "Fizz\n",
      "Buzz\n",
      "26\n",
      "Fizz\n",
      "28\n",
      "29\n",
      "Fizzbuzz\n",
      "31\n",
      "32\n",
      "Fizz\n",
      "34\n",
      "Buzz\n",
      "Fizz\n",
      "37\n",
      "38\n",
      "Fizz\n",
      "Buzz\n",
      "41\n",
      "Fizz\n",
      "43\n",
      "44\n",
      "Fizzbuzz\n",
      "46\n",
      "47\n",
      "Fizz\n",
      "49\n",
      "Buzz\n",
      "Fizz\n",
      "52\n",
      "53\n",
      "Fizz\n",
      "Buzz\n",
      "56\n",
      "Fizz\n",
      "58\n",
      "59\n",
      "Fizzbuzz\n",
      "61\n",
      "62\n",
      "Fizz\n",
      "64\n",
      "Buzz\n",
      "Fizz\n",
      "67\n",
      "68\n",
      "Fizz\n",
      "Buzz\n",
      "71\n",
      "Fizz\n",
      "73\n",
      "74\n",
      "Fizzbuzz\n",
      "76\n",
      "77\n",
      "Fizz\n",
      "79\n",
      "Buzz\n",
      "Fizz\n",
      "82\n",
      "83\n",
      "Fizz\n",
      "Buzz\n",
      "86\n",
      "Fizz\n",
      "88\n",
      "89\n",
      "Fizzbuzz\n",
      "91\n",
      "92\n",
      "Fizz\n",
      "94\n",
      "Buzz\n",
      "Fizz\n",
      "97\n",
      "98\n",
      "Fizz\n",
      "Buzz\n"
     ]
    }
   ],
   "source": [
    "#3. Fizzbuzz\n",
    "#One of the most common interview questions for entry-level programmers is the FizzBuzz test. Developed by Imran Ghory, the test is designed to test basic looping and conditional logic skills.\n",
    "\n",
    "#Write a program that prints the numbers from 1 to 100.\n",
    "#For multiples of three print \"Fizz\" instead of the number\n",
    "#For the multiples of five print \"Buzz\".\n",
    "\n",
    "\n",
    "for i in range (1,101):\n",
    "    \n",
    "    if (i % 3 == 0) and (i % 5 == 0):\n",
    "        print('Fizzbuzz')\n",
    "    elif i % 3 == 0:\n",
    "        print('Fizz')\n",
    "    elif i % 5 == 0:\n",
    "        print('Buzz')\n",
    "    else:\n",
    "        print(i)\n",
    "        \n"
   ]
  },
  {
   "cell_type": "code",
   "execution_count": 7,
   "id": "ed34ae8f",
   "metadata": {},
   "outputs": [
    {
     "name": "stdout",
     "output_type": "stream",
     "text": [
      "Enter a positive number: 9\n",
      "0\n",
      "1\n",
      "2\n",
      "3\n",
      "4\n",
      "5\n",
      "6\n",
      "7\n",
      "8\n",
      "9\n"
     ]
    }
   ],
   "source": [
    "# The input function can be used to prompt for input and use that input in your python code. Prompt the user to enter a positive number and write a loop that counts from 0 to that number. (Hints: first make sure that the value the user entered is a valid number, also note that the input function returns a string, so you'll need to convert this to a numeric type.)\n",
    "num = input(\"Enter a positive number: \")\n",
    "while ((num.isdigit() == False) or (int(num) % 1 != 0) or (int(num) < 0)):\n",
    "       print(\"Not a digit, or positive number so try again: \")\n",
    "\n",
    "for i in range (0, int(num) + 1):\n",
    "    print(i)\n",
    "    i += 1"
   ]
  },
  {
   "cell_type": "code",
   "execution_count": 2,
   "id": "049f0268",
   "metadata": {},
   "outputs": [
    {
     "name": "stdout",
     "output_type": "stream",
     "text": [
      "Enter a positive interger: 9\n",
      "9\n",
      "8\n",
      "7\n",
      "6\n",
      "5\n",
      "4\n",
      "3\n",
      "2\n",
      "1\n"
     ]
    }
   ],
   "source": [
    "# 3d. Write a program that prompts the user for a positive integer. Next write a loop that prints out the numbers from the number the user entered down to 1\n",
    "\n",
    "num = input(\"Enter a positive interger: \")\n",
    "while ((num.isdigit() == False) or (int(num) % 1 != 0) or (int(num) < 0)):\n",
    "       print(\"Not a digit, or positive integer so try again: \")\n",
    "\n",
    "for i in range (int(num), 0, -1):\n",
    "    print(i)\n",
    "    i -= 1\n"
   ]
  },
  {
   "cell_type": "code",
   "execution_count": null,
   "id": "c8e0a56c",
   "metadata": {},
   "outputs": [],
   "source": []
  }
 ],
 "metadata": {
  "kernelspec": {
   "display_name": "Python 3 (ipykernel)",
   "language": "python",
   "name": "python3"
  },
  "language_info": {
   "codemirror_mode": {
    "name": "ipython",
    "version": 3
   },
   "file_extension": ".py",
   "mimetype": "text/x-python",
   "name": "python",
   "nbconvert_exporter": "python",
   "pygments_lexer": "ipython3",
   "version": "3.9.12"
  }
 },
 "nbformat": 4,
 "nbformat_minor": 5
}
