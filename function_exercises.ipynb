{
 "cells": [
  {
   "cell_type": "code",
   "execution_count": 35,
   "id": "4cda6110",
   "metadata": {},
   "outputs": [
    {
     "data": {
      "text/plain": [
       "True"
      ]
     },
     "execution_count": 35,
     "metadata": {},
     "output_type": "execute_result"
    }
   ],
   "source": [
    "# Create a file named function_exercises.py for this exercise. After creating each function specified below, write the necessary code in order to test your function.\n",
    "#1 Define a function named is_two. It should accept one input and return True if the passed input is either the number or the string 2, False otherwise.\n",
    "def is_two(num):\n",
    "    if (num == 2 or num == '2'):\n",
    "        return True\n",
    "    else:\n",
    "        return False\n",
    "is_two(2)\n",
    "\n",
    "    "
   ]
  },
  {
   "cell_type": "code",
   "execution_count": 11,
   "id": "ba9bf9b7",
   "metadata": {},
   "outputs": [
    {
     "data": {
      "text/plain": [
       "True"
      ]
     },
     "execution_count": 11,
     "metadata": {},
     "output_type": "execute_result"
    }
   ],
   "source": [
    "is_two('2')"
   ]
  },
  {
   "cell_type": "code",
   "execution_count": 13,
   "id": "3ae5451f",
   "metadata": {},
   "outputs": [
    {
     "data": {
      "text/plain": [
       "False"
      ]
     },
     "execution_count": 13,
     "metadata": {},
     "output_type": "execute_result"
    }
   ],
   "source": [
    "is_two(8)"
   ]
  },
  {
   "cell_type": "code",
   "execution_count": 15,
   "id": "cb96ba6d",
   "metadata": {},
   "outputs": [
    {
     "data": {
      "text/plain": [
       "True"
      ]
     },
     "execution_count": 15,
     "metadata": {},
     "output_type": "execute_result"
    }
   ],
   "source": [
    "#2. Define a function named is_vowel. It should return True if the passed string is a vowel, False otherwise\n",
    "def is_vowel(letter):\n",
    "    if type(letter) == str:\n",
    "        if len(letter) == 1:\n",
    "            return letter.lower() in list('aeiou')\n",
    "    else:\n",
    "        return False\n",
    "is_vowel('a')\n"
   ]
  },
  {
   "cell_type": "code",
   "execution_count": 16,
   "id": "56217fd7",
   "metadata": {},
   "outputs": [
    {
     "data": {
      "text/plain": [
       "False"
      ]
     },
     "execution_count": 16,
     "metadata": {},
     "output_type": "execute_result"
    }
   ],
   "source": [
    "is_vowel('b')"
   ]
  },
  {
   "cell_type": "code",
   "execution_count": 17,
   "id": "4bfaf8e6",
   "metadata": {},
   "outputs": [
    {
     "data": {
      "text/plain": [
       "True"
      ]
     },
     "execution_count": 17,
     "metadata": {},
     "output_type": "execute_result"
    }
   ],
   "source": [
    "#3 Define a function named is_consonant. It should return True if the passed string is a consonant, False otherwise. Use your is_vowel function to accomplish this.\n",
    "\n",
    "def is_consonant(letter):\n",
    "    if type(letter) == str:\n",
    "        if len(letter) == 1 and letter.isalpha():\n",
    "            return (not is_vowel(letter))\n",
    "        else:\n",
    "            return False\n",
    "    else:\n",
    "        return False\n",
    "    \n",
    "is_consonant('b')\n",
    "    \n"
   ]
  },
  {
   "cell_type": "code",
   "execution_count": 18,
   "id": "3b28c853",
   "metadata": {},
   "outputs": [
    {
     "data": {
      "text/plain": [
       "False"
      ]
     },
     "execution_count": 18,
     "metadata": {},
     "output_type": "execute_result"
    }
   ],
   "source": [
    "is_consonant('o')"
   ]
  },
  {
   "cell_type": "code",
   "execution_count": 19,
   "id": "30d03dfa",
   "metadata": {},
   "outputs": [
    {
     "data": {
      "text/plain": [
       "False"
      ]
     },
     "execution_count": 19,
     "metadata": {},
     "output_type": "execute_result"
    }
   ],
   "source": [
    "is_consonant(5)"
   ]
  },
  {
   "cell_type": "code",
   "execution_count": 29,
   "id": "464b76ce",
   "metadata": {
    "scrolled": true
   },
   "outputs": [
    {
     "data": {
      "text/plain": [
       "'Cat'"
      ]
     },
     "execution_count": 29,
     "metadata": {},
     "output_type": "execute_result"
    }
   ],
   "source": [
    "#4. Define a function that accepts a string that is a word. The function should capitalize the first letter of the word if the word starts with a consonant.\n",
    "def is_capitalized_with_consonant(word):\n",
    "    if type(word) == str:\n",
    "        if is_consonant(word[0]): \n",
    "            return word.capitalize()\n",
    "        else:\n",
    "            return False\n",
    "    else:\n",
    "        return False\n",
    "    \n",
    "    \n",
    "is_capitalized_with_consonant('cat')\n",
    "    \n",
    "\n"
   ]
  },
  {
   "cell_type": "code",
   "execution_count": 31,
   "id": "db7d347c",
   "metadata": {},
   "outputs": [
    {
     "data": {
      "text/plain": [
       "False"
      ]
     },
     "execution_count": 31,
     "metadata": {},
     "output_type": "execute_result"
    }
   ],
   "source": [
    "is_capitalized_with_consonant(8)"
   ]
  },
  {
   "cell_type": "code",
   "execution_count": 32,
   "id": "e1058876",
   "metadata": {},
   "outputs": [
    {
     "data": {
      "text/plain": [
       "False"
      ]
     },
     "execution_count": 32,
     "metadata": {},
     "output_type": "execute_result"
    }
   ],
   "source": [
    "is_capitalized_with_consonant('8')"
   ]
  },
  {
   "cell_type": "code",
   "execution_count": 6,
   "id": "773fe84a",
   "metadata": {},
   "outputs": [
    {
     "data": {
      "text/plain": [
       "5.0"
      ]
     },
     "execution_count": 6,
     "metadata": {},
     "output_type": "execute_result"
    }
   ],
   "source": [
    "#5. Define a function named calculate_tip. It should accept a tip percentage (a number between 0 and 1) and the bill total, and return the amount to tip.\n",
    "tip = 0\n",
    "def calculate_tip(total_bill, tip_percent = 0.5):\n",
    "        return total_bill * tip_percent\n",
    "\n",
    "calculate_tip(10)\n",
    "    \n",
    "    "
   ]
  },
  {
   "cell_type": "code",
   "execution_count": null,
   "id": "34bf2275",
   "metadata": {},
   "outputs": [],
   "source": []
  },
  {
   "cell_type": "code",
   "execution_count": 7,
   "id": "9174cd6c",
   "metadata": {},
   "outputs": [
    {
     "data": {
      "text/plain": [
       "50.0"
      ]
     },
     "execution_count": 7,
     "metadata": {},
     "output_type": "execute_result"
    }
   ],
   "source": [
    "#6. Define a function named apply_discount. It should accept a original price, and a discount percentage, and return the price after the discount is applied.\n",
    "def apply_discount(orginal_price,discount_percent = 0.5):\n",
    "    return (orginal_price - orginal_price * discount_percent)\n",
    "\n",
    "apply_discount(100)"
   ]
  },
  {
   "cell_type": "code",
   "execution_count": 8,
   "id": "d0072334",
   "metadata": {},
   "outputs": [
    {
     "data": {
      "text/plain": [
       "1234567"
      ]
     },
     "execution_count": 8,
     "metadata": {},
     "output_type": "execute_result"
    }
   ],
   "source": [
    "#7. Define a function named handle_commas. It should accept a string that is a number that contains commas in it as input, and return a number as output\n",
    "\n",
    "def handle_commas(string):\n",
    "    return(int(string.replace(',','')))\n",
    "    \n",
    "handle_commas('1,234,567')\n",
    "\n",
    "    "
   ]
  },
  {
   "cell_type": "code",
   "execution_count": null,
   "id": "a5a321c8",
   "metadata": {},
   "outputs": [],
   "source": [
    "#8. Define a function named get_letter_grade. It should accept a number and return the letter grade associated with that number (A-F"
   ]
  },
  {
   "cell_type": "code",
   "execution_count": 9,
   "id": "e981954c",
   "metadata": {},
   "outputs": [
    {
     "data": {
      "text/plain": [
       "'B'"
      ]
     },
     "execution_count": 9,
     "metadata": {},
     "output_type": "execute_result"
    }
   ],
   "source": [
    "def get_letter_grade(your_point):\n",
    "    if your_point >= 90:\n",
    "        return 'A'\n",
    "    elif your_point >= 80:\n",
    "        return 'B'\n",
    "    elif your_point >= 70:\n",
    "        return 'C'\n",
    "    elif your_point >= 60:\n",
    "        return 'D'\n",
    "    else:\n",
    "        return 'F'\n",
    "    \n",
    "get_letter_grade(88)\n",
    "    "
   ]
  },
  {
   "cell_type": "code",
   "execution_count": 10,
   "id": "cb7f5359",
   "metadata": {},
   "outputs": [
    {
     "data": {
      "text/plain": [
       "'Kthmnd'"
      ]
     },
     "execution_count": 10,
     "metadata": {},
     "output_type": "execute_result"
    }
   ],
   "source": [
    "# 9 Define a function named remove_vowels that accepts a string and returns a string with all the vowels removed\n",
    "def remove_vowels(text):\n",
    "    vowels = ['a','e','i','o','u']\n",
    "    char = []\n",
    "    for i in text:\n",
    "        if i.lower() not in vowels:\n",
    "            char.append(i)\n",
    "    return \"\".join(char)\n",
    "\n",
    "remove_vowels('KAthmandu')"
   ]
  },
  {
   "cell_type": "code",
   "execution_count": 60,
   "id": "9eac0a6f",
   "metadata": {},
   "outputs": [
    {
     "data": {
      "text/plain": [
       "'i_need_to_git_push_and_sleep_now'"
      ]
     },
     "execution_count": 60,
     "metadata": {},
     "output_type": "execute_result"
    }
   ],
   "source": [
    "# 10 Define a function named normalize_name. It should accept a string and return a valid python identifier, that is:\n",
    "#anything that is not a valid python identifier should be removed\n",
    "#leading and trailing whitespace should be removed\n",
    "\n",
    "#spaces should be replaced with underscores\n",
    "#for example:\n",
    "#Name will become name\n",
    "#First Name will become first_name\n",
    "#% Completed will become completed\n",
    "\n",
    "def normalize_name(any_string): \n",
    "    refined_output = any_string.strip()\n",
    "    refined_output = refined_output.replace(' ','_')\n",
    "    refinded_output = refined_output.lower()\n",
    "    while not refined_output[0].isalpha():\n",
    "        refined_output = refined_output[1:]\n",
    "    return refined_output\n",
    "\n",
    "normalize_name('   $i need to git push and sleep now    ')\n",
    "\n",
    "\n"
   ]
  },
  {
   "cell_type": "code",
   "execution_count": 75,
   "id": "bde7d0c7",
   "metadata": {},
   "outputs": [
    {
     "data": {
      "text/plain": [
       "[1, 2, 3]"
      ]
     },
     "execution_count": 75,
     "metadata": {},
     "output_type": "execute_result"
    }
   ],
   "source": [
    "# Write a function named cumulative_sum that accepts a list of numbers and returns a list that is the cumulative sum of the numbers in the list.\n",
    "#cumulative_sum([1, 1, 1]) returns [1, 2, 3]\n",
    "#cumulative_sum([1, 2, 3, 4]) returns [1, 3, 6, 10]\n",
    "\n",
    "def cumulative_sum(values):\n",
    "    new_values = []\n",
    "    sum = 0\n",
    "    for i in values:\n",
    "        sum += i\n",
    "        new_values.append(sum)\n",
    "    return new_values\n",
    "\n",
    "cumulative_sum([1, 1, 1])\n",
    "\n"
   ]
  },
  {
   "cell_type": "code",
   "execution_count": 76,
   "id": "f814e9d4",
   "metadata": {},
   "outputs": [
    {
     "data": {
      "text/plain": [
       "[1, 3, 6, 10]"
      ]
     },
     "execution_count": 76,
     "metadata": {},
     "output_type": "execute_result"
    }
   ],
   "source": [
    "cumulative_sum([1, 2, 3, 4])"
   ]
  },
  {
   "cell_type": "code",
   "execution_count": null,
   "id": "a1b568e5",
   "metadata": {},
   "outputs": [],
   "source": []
  },
  {
   "cell_type": "code",
   "execution_count": null,
   "id": "d8519e6e",
   "metadata": {},
   "outputs": [],
   "source": []
  }
 ],
 "metadata": {
  "kernelspec": {
   "display_name": "Python 3 (ipykernel)",
   "language": "python",
   "name": "python3"
  },
  "language_info": {
   "codemirror_mode": {
    "name": "ipython",
    "version": 3
   },
   "file_extension": ".py",
   "mimetype": "text/x-python",
   "name": "python",
   "nbconvert_exporter": "python",
   "pygments_lexer": "ipython3",
   "version": "3.9.12"
  }
 },
 "nbformat": 4,
 "nbformat_minor": 5
}
