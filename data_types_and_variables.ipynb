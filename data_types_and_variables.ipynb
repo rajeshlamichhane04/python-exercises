{
 "cells": [
  {
   "cell_type": "code",
   "execution_count": 6,
   "id": "c877540c",
   "metadata": {},
   "outputs": [
    {
     "name": "stdout",
     "output_type": "stream",
     "text": [
      "I will have to pay $27.\n"
     ]
    }
   ],
   "source": [
    "# You have rented some movies for your kids: The little mermaid (for 3 days), Brother Bear (for 5 days, they love it), and Hercules (1 day, you don't know yet if they're going to like it). If price for a movie per day is 3 dollars, how much will you have to pay?\n",
    "\n",
    "little_mermaid = 3\n",
    "brother_bear = 5\n",
    "hercules = 1\n",
    "unit_price = 3\n",
    "total_price = 0\n",
    "total_price = (little_mermaid + brother_bear + hercules) * unit_price\n",
    "print(f'I will have to pay ${total_price}.')\n"
   ]
  },
  {
   "cell_type": "code",
   "execution_count": 9,
   "id": "0f6933de",
   "metadata": {},
   "outputs": [
    {
     "name": "stdout",
     "output_type": "stream",
     "text": [
      "7420\n"
     ]
    }
   ],
   "source": [
    "# Suppose you're working as a contractor for 3 companies: Google, Amazon and Facebook, they pay you a different rate per hour. Google pays 400 dollars per hour, Amazon 380, and Facebook 350. How much will you receive in payment for this week? You worked 10 hours for Facebook, 6 hours for Google and 4 hours for Amazon\n",
    "\n",
    "total_pay = 0\n",
    "google_pay = 400\n",
    "amazon_pay = 380\n",
    "facebook_pay = 350\n",
    "google_hours = 6\n",
    "amazon_hours = 4\n",
    "facebook_hours = 10\n",
    "total_pay = google_pay * google_hours + amazon_pay * amazon_hours + facebook_pay * facebook_hours\n",
    "\n",
    "print(total_pay)"
   ]
  },
  {
   "cell_type": "code",
   "execution_count": 14,
   "id": "69b60315",
   "metadata": {},
   "outputs": [
    {
     "name": "stdout",
     "output_type": "stream",
     "text": [
      "False\n"
     ]
    }
   ],
   "source": [
    "# A student can be enrolled to a class only if the class is not full and the class schedule does not conflict with her current schedule\n",
    "class_not_full = True\n",
    "schedule_does_not_conflict = False\n",
    "can_i_enroll = class_not_full and schedule_does_not_conflict\n",
    "print(can_i_enroll)"
   ]
  },
  {
   "cell_type": "code",
   "execution_count": 12,
   "id": "5d6fd92b",
   "metadata": {},
   "outputs": [
    {
     "name": "stdout",
     "output_type": "stream",
     "text": [
      "True\n"
     ]
    }
   ],
   "source": [
    "#A product offer can be applied only if people buys more than 2 items, and the offer has not expired. Premium members do not need to buy a specific amount of products\n",
    "coupon_not_expired = True\n",
    "more_than_two_items = False\n",
    "premium_member = True\n",
    "product_offer = coupon_not_expired and (more_than_two_items or premium_member)\n",
    "print(product_offer)"
   ]
  },
  {
   "cell_type": "code",
   "execution_count": 6,
   "id": "ca66da83",
   "metadata": {},
   "outputs": [
    {
     "name": "stdout",
     "output_type": "stream",
     "text": [
      "True\n"
     ]
    }
   ],
   "source": [
    "# Continue working in your data_types_and_variables.py file. Use the following code to follow the instructions below:\n",
    "username = 'codeup'\n",
    "password = 'notastrongpassword'\n",
    "\n",
    "#Create a variable that holds a boolean value for each of the following conditions:\n",
    "#the password must be at least 5 characters\n",
    "is_password_long = len(password) >= 5\n",
    "\n",
    "#the username must be no more than 20 characters\n",
    "is_username_long = len(username) <= 20\n",
    "\n",
    "#the password must not be the same as the username\n",
    "is_diff = username != password\n",
    "\n",
    "#neither the username or password can start or end with whitespace\n",
    "no_space_username = username == username.strip()\n",
    "no_space_password = password == password.strip()\n",
    "\n",
    "valid_log_in = is_password_long and is_username_long and is_diff \\\n",
    "and no_space_username and no_space_password\n",
    "print(valid_log_in)\n",
    "\n"
   ]
  },
  {
   "cell_type": "code",
   "execution_count": null,
   "id": "4d3b1362",
   "metadata": {},
   "outputs": [],
   "source": []
  }
 ],
 "metadata": {
  "kernelspec": {
   "display_name": "Python 3 (ipykernel)",
   "language": "python",
   "name": "python3"
  },
  "language_info": {
   "codemirror_mode": {
    "name": "ipython",
    "version": 3
   },
   "file_extension": ".py",
   "mimetype": "text/x-python",
   "name": "python",
   "nbconvert_exporter": "python",
   "pygments_lexer": "ipython3",
   "version": "3.9.12"
  }
 },
 "nbformat": 4,
 "nbformat_minor": 5
}
